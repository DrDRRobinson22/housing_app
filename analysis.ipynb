{
  "cells": [
    {
      "cell_type": "code",
      "source": [
        "import matplotlib.pyplot as plt\n",
        "import numpy as np\n",
        "import pandas as pd\n",
        "%matplotlib inline\n",
        "from model.model import City"
      ],
      "outputs": [],
      "execution_count": 1,
      "metadata": {
        "collapsed": false,
        "outputHidden": false,
        "inputHidden": false
      }
    },
    {
      "cell_type": "code",
      "source": [
        "from mesa.batchrunner import batch_run\n",
        "\n",
        "variable_parameters = {\n",
        "    'density': [1, 100],\n",
        "    'subsistence_wage': [10000, 30000]\n",
        "}\n",
        "\n",
        "agent_reporters = {\n",
        "    'x': lambda a: a.pos[0],\n",
        "    'y': lambda a: a.pos[1],\n",
        "}\n",
        "\n",
        "# Run the batch simulations\n",
        "results = batch_run(City, variable_parameters, data_collection_period=1, iterations=2, max_steps=4)\n",
        "\n"
      ],
      "outputs": [
        {
          "output_type": "stream",
          "name": "stderr",
          "text": [
            "8it [00:23,  2.98s/it]\n"
          ]
        }
      ],
      "execution_count": 2,
      "metadata": {
        "collapsed": false,
        "outputHidden": false,
        "inputHidden": false
      }
    },
    {
      "cell_type": "code",
      "source": [
        "# Convert the results to a pandas DataFrame\n",
        "df = pd.DataFrame(results)\n",
        "\n",
        "# Save the DataFrame to a CSV file\n",
        "df.to_csv('batch_results.csv', index=False)"
      ],
      "outputs": [],
      "execution_count": 3,
      "metadata": {
        "collapsed": false,
        "outputHidden": false,
        "inputHidden": false
      }
    },
    {
      "cell_type": "code",
      "source": [
        "# Create and run the model\n",
        "city = City()\n",
        "\n",
        "time_steps = 4\n",
        "for t in range(time_steps):\n",
        "    city.step()"
      ],
      "outputs": [],
      "execution_count": 4,
      "metadata": {
        "collapsed": false,
        "outputHidden": false,
        "inputHidden": false
      }
    },
    {
      "cell_type": "code",
      "source": [
        "no_steps   = 5\n",
        "parameters = {\n",
        "            'run_notes': 'Debugging model.',\n",
        "            'width': 50,\n",
        "            'height': 1,\n",
        "            'init_city_extent': 10.,  # f CUT OR CHANGE?\n",
        "            'seed_population': 10,\n",
        "            'density': 300,\n",
        "            'subsistence_wage': 40000.,  # psi\n",
        "            'init_wage_premium_ratio': 0.2,\n",
        "            'workforce_rural_firm': 100,\n",
        "            'price_of_output': 1.,  # TODO CUT?\n",
        "            'alpha_F': 0.18,\n",
        "            'beta_F': 0.72,  # beta and was lambda, workers_share of aglom surplus\n",
        "            'beta_city': 1.12,\n",
        "            'gamma': 0.02,  # FIX value\n",
        "            'Z': 0.5,  # CUT? Scales new entrants\n",
        "            'firm_adjustment_parameter': 0.25,\n",
        "            'wage_adjustment_parameter': 0.5,\n",
        "            'mortgage_period': 5.0,  # T, in years\n",
        "            'working_periods': 40,  # in years\n",
        "            'savings_rate': 0.3,\n",
        "            'r_prime': 0.05,  # 0.03\n",
        "            'discount_rate': 0.07, # 1/delta\n",
        "            'r_margin': 0.01,\n",
        "            'property_tax_rate': 0.04,  # tau, annual rate, was c\n",
        "            'housing_services_share': 0.3,  # a\n",
        "            'maintenance_share': 0.2,  # b\n",
        "            'max_mortgage_share': 0.9,\n",
        "            'ability_to_carry_mortgage': 0.28,\n",
        "            'wealth_sensitivity': 0.1,\n",
        "        }\n"
      ],
      "outputs": [],
      "execution_count": 5,
      "metadata": {
        "collapsed": false,
        "outputHidden": false,
        "inputHidden": false
      }
    },
    {
      "cell_type": "code",
      "source": [
        "# Define the parameters to sweep over\n",
        "no_steps   = 5\n",
        "densities = [1, 100]\n",
        "subsistence_wages = [10000, 50000]\n",
        "\n",
        "for density in densities:\n",
        "    for subsistence_wage in subsistence_wages:\n",
        "        # Update parameters\n",
        "        parameters['density'] = density\n",
        "        parameters['subsistence_wage'] = subsistence_wage\n",
        "\n",
        "        # Initialize and run the model\n",
        "        city = City(num_steps=no_steps, **parameters)\n",
        "        city.run_model()\n",
        "\n",
        "        agent_out = city.datacollector.get_agent_vars_dataframe()\n",
        "        model_out = city.datacollector.get_model_vars_dataframe()\n",
        "\n",
        "        print('Run')\n",
        "        print(model_out)"
      ],
      "outputs": [],
      "execution_count": 6,
      "metadata": {
        "collapsed": false,
        "outputHidden": false,
        "inputHidden": false
      }
    }
  ],
  "metadata": {
    "kernel_info": {
      "name": "housing"
    },
    "language_info": {
      "name": "python",
      "version": "3.9.12",
      "mimetype": "text/x-python",
      "codemirror_mode": {
        "name": "ipython",
        "version": 3
      },
      "pygments_lexer": "ipython3",
      "nbconvert_exporter": "python",
      "file_extension": ".py"
    },
    "kernelspec": {
      "name": "housing",
      "language": "python",
      "display_name": "Python (housing)"
    },
    "nteract": {
      "version": "0.12.3"
    }
  },
  "nbformat": 4,
  "nbformat_minor": 4
}