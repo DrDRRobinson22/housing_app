{
  "cells": [
    {
      "cell_type": "code",
      "source": [
        "import matplotlib.pyplot as plt\n",
        "import numpy as np\n",
        "%matplotlib inline\n",
        "from model.model import City"
      ],
      "outputs": [],
      "execution_count": 2,
      "metadata": {
        "collapsed": false,
        "outputHidden": false,
        "inputHidden": false
      }
    },
    {
      "cell_type": "code",
      "source": [
        "# Create and run the model\n",
        "city = City()\n",
        "\n",
        "time_steps = 4\n",
        "for t in range(time_steps):\n",
        "    city.step()"
      ],
      "outputs": [],
      "execution_count": 3,
      "metadata": {
        "collapsed": false,
        "outputHidden": false,
        "inputHidden": false
      }
    },
    {
      "cell_type": "code",
      "source": [
        "no_steps   = 5\n",
        "parameters = {\n",
        "            'run_notes': 'Debugging model.',\n",
        "            'width': 50,\n",
        "            'height': 1,\n",
        "            'init_city_extent': 10.,  # f CUT OR CHANGE?\n",
        "            'seed_population': 10,\n",
        "            'density': 300,\n",
        "            'subsistence_wage': 40000.,  # psi\n",
        "            'init_wage_premium_ratio': 0.2,\n",
        "            'workforce_rural_firm': 100,\n",
        "            'price_of_output': 1.,  # TODO CUT?\n",
        "            'alpha_F': 0.18,\n",
        "            'beta_F': 0.72,  # beta and was lambda, workers_share of aglom surplus\n",
        "            'beta_city': 1.12,\n",
        "            'gamma': 0.02,  # FIX value\n",
        "            'Z': 0.5,  # CUT? Scales new entrants\n",
        "            'firm_adjustment_parameter': 0.25,\n",
        "            'wage_adjustment_parameter': 0.5,\n",
        "            'mortgage_period': 5.0,  # T, in years\n",
        "            'working_periods': 40,  # in years\n",
        "            'savings_rate': 0.3,\n",
        "            'r_prime': 0.05,  # 0.03\n",
        "            'discount_rate': 0.07, # 1/delta\n",
        "            'r_margin': 0.01,\n",
        "            'property_tax_rate': 0.04,  # tau, annual rate, was c\n",
        "            'housing_services_share': 0.3,  # a\n",
        "            'maintenance_share': 0.2,  # b\n",
        "            'max_mortgage_share': 0.9,\n",
        "            'ability_to_carry_mortgage': 0.28,\n",
        "            'wealth_sensitivity': 0.1,\n",
        "        }\n"
      ],
      "outputs": [],
      "execution_count": 5,
      "metadata": {
        "collapsed": false,
        "outputHidden": false,
        "inputHidden": false
      }
    },
    {
      "cell_type": "code",
      "source": [
        "# Define the parameters to sweep over\n",
        "no_steps   = 5\n",
        "densities = [1, 100]\n",
        "subsistence_wages = [10000, 50000]\n",
        "\n",
        "for density in densities:\n",
        "    for subsistence_wage in subsistence_wages:\n",
        "        # Update parameters\n",
        "        parameters['density'] = density\n",
        "        parameters['subsistence_wage'] = subsistence_wage\n",
        "\n",
        "        # Initialize and run the model\n",
        "        city = City(num_steps=no_steps, **parameters)\n",
        "        city.run_model()\n",
        "\n",
        "        agent_out = city.datacollector.get_agent_vars_dataframe()\n",
        "        model_out = city.datacollector.get_model_vars_dataframe()\n",
        "\n",
        "        print('Run')\n",
        "        print(model_out)"
      ],
      "outputs": [
        {
          "output_type": "stream",
          "name": "stdout",
          "text": [
            "Run\n",
            "   companies  people          wage  city_extent  population  workers\n",
            "0          1      50  11501.975200     7.509876          18        8\n",
            "1          1      50  11127.071477     5.635357          16        6\n",
            "2          1      53  10845.669618     4.228348          15        5\n",
            "3          1      55  10634.555210     3.172776          14        4\n",
            "4          1      55  10476.188664     2.380943          13        3\n",
            "Run\n",
            "   companies  people          wage  city_extent  population  workers\n",
            "0          1      50  57505.531705     7.505532          18        8\n",
            "1          1      51  55630.530212     5.630530          16        6\n",
            "2          1      52  54223.708266     4.223708          15        5\n",
            "3          1      52  53168.440815     3.168441          14        4\n",
            "4          1      56  52376.920161     2.376920          13        3\n",
            "Run\n",
            "   companies  people          wage  city_extent  population  workers\n",
            "0          1      50  11500.197520     7.500988         810        8\n",
            "1          1      52  11125.389478     5.626947         610        6\n",
            "2          1      53  10844.212257     4.221061         510        5\n",
            "3          1      53  10633.301180     3.166506         410        4\n",
            "4          1      56  10475.097813     2.375489         310        3\n",
            "Run\n",
            "   companies  people          wage  city_extent  population  workers\n",
            "0          1      50  57500.553171     7.500553         810        8\n",
            "1          1      51  55625.979862     5.625980         610        6\n",
            "2          1      53  54219.861712     4.219862         510        5\n",
            "3          1      55  53165.205377     3.165205         410        4\n",
            "4          1      56  52374.168050     2.374168         310        3\n"
          ]
        }
      ],
      "execution_count": 9,
      "metadata": {
        "collapsed": false,
        "outputHidden": false,
        "inputHidden": false
      }
    },
    {
      "cell_type": "code",
      "source": [],
      "outputs": [],
      "execution_count": null,
      "metadata": {
        "collapsed": false,
        "outputHidden": false,
        "inputHidden": false
      }
    }
  ],
  "metadata": {
    "kernel_info": {
      "name": "housing"
    },
    "language_info": {
      "name": "python",
      "version": "3.9.12",
      "mimetype": "text/x-python",
      "codemirror_mode": {
        "name": "ipython",
        "version": 3
      },
      "pygments_lexer": "ipython3",
      "nbconvert_exporter": "python",
      "file_extension": ".py"
    },
    "kernelspec": {
      "name": "housing",
      "language": "python",
      "display_name": "Python (housing)"
    },
    "nteract": {
      "version": "0.12.3"
    }
  },
  "nbformat": 4,
  "nbformat_minor": 4
}